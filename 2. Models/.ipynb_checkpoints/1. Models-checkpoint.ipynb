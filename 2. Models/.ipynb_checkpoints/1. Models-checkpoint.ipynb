{
 "cells": [
  {
   "cell_type": "code",
   "execution_count": 1,
   "id": "a3d53f9c-50dd-446b-9b5e-ae212c42d57b",
   "metadata": {
    "tags": []
   },
   "outputs": [],
   "source": [
    "from pyspark.ml.feature import StringIndexer, VectorAssembler\n",
    "from pyspark.ml.classification import RandomForestClassifier\n",
    "from pyspark.ml.evaluation import MulticlassClassificationEvaluator\n",
    "from pyspark.ml.classification import MultilayerPerceptronClassifier\n",
    "\n",
    "from pyspark.sql import SparkSession\n",
    "from pyspark.ml.feature import VectorAssembler\n",
    "from pyspark.ml.classification import LogisticRegression\n",
    "from pyspark.ml.evaluation import BinaryClassificationEvaluator\n",
    "from pyspark.ml.classification import GBTClassifier\n",
    "from pyspark.ml.evaluation import BinaryClassificationEvaluator"
   ]
  },
  {
   "cell_type": "markdown",
   "id": "3b92a122-867e-48d6-9863-8410a848f785",
   "metadata": {},
   "source": [
    "## Data Preprocessing"
   ]
  },
  {
   "cell_type": "code",
   "execution_count": 2,
   "id": "b2956873-4387-40f5-a762-532aa3b250a1",
   "metadata": {
    "tags": []
   },
   "outputs": [
    {
     "name": "stderr",
     "output_type": "stream",
     "text": [
      "/opt/conda/lib/python3.7/site-packages/pyspark/bin/load-spark-env.sh: line 68: ps: command not found\n",
      "Setting default log level to \"WARN\".\n",
      "To adjust logging level use sc.setLogLevel(newLevel). For SparkR, use setLogLevel(newLevel).\n"
     ]
    },
    {
     "name": "stdout",
     "output_type": "stream",
     "text": [
      "24/12/03 19:51:28 WARN NativeCodeLoader: Unable to load native-hadoop library for your platform... using builtin-java classes where applicable\n",
      "24/12/03 19:51:29 WARN Utils: Service 'SparkUI' could not bind on port 4040. Attempting port 4041.\n"
     ]
    },
    {
     "name": "stderr",
     "output_type": "stream",
     "text": [
      "                                                                                \r"
     ]
    }
   ],
   "source": [
    "file_path = 'combined_saved_games.csv/part-00000-ba49024c-4aa1-44ec-baae-98be97d3b553-c000.csv'\n",
    "\n",
    "spark = SparkSession.builder \\\n",
    "    .appName(\"benchmarkmodel\") \\\n",
    "    .config(\"spark.executor.cores\", \"4\") \\\n",
    "    .config(\"spark.driver.memory\", \"64g\") \\\n",
    "    .config(\"spark.executor.memory\", \"64g\") \\\n",
    "    .config(\"spark.sql.shuffle.partitions\", \"100\") \\\n",
    "    .getOrCreate()\n",
    "\n",
    "spark.conf.set(\"spark.sql.codegen.wholeStage\", \"false\")\n",
    "\n",
    "spark.conf.set(\"spark.sql.codegen.maxFields\", \"2000\") \n",
    "\n",
    "# spark = SparkSession.builder.appName(\"benchmarkmodel\").getOrCreate()\n",
    "spark.sparkContext.setLogLevel(\"ERROR\")\n",
    "df = spark.read.csv(file_path, header = True, inferSchema = True)\n",
    "\n",
    "\n",
    "spark = SparkSession.builder.appName(\"benchmarkmodel\").getOrCreate()\n",
    "\n",
    "df = spark.read.csv(file_path, header = True, inferSchema = True)\n",
    "\n"
   ]
  },
  {
   "cell_type": "code",
   "execution_count": 3,
   "id": "bf135d27-0e96-4ad2-b3af-64b695bc3ec6",
   "metadata": {
    "tags": []
   },
   "outputs": [
    {
     "name": "stdout",
     "output_type": "stream",
     "text": [
      "+----+-------+---------+------+---+---+---+---+---+---+---+---+---+---+---+---+---+---+---+---+---+---+---+---+---+---+---+---+---+---+---+---+---+---+---+---+---+---+---+---+---+---+---+---+---+---+---+---+---+---+---+---+---+---+---+---+---+---+---+---+---+---+---+---+---+---+---+---+\n",
      "|Move|game_id|next_move|result| a1| b1| c1| d1| e1| f1| g1| h1| a2| b2| c2| d2| e2| f2| g2| h2| a3| b3| c3| d3| e3| f3| g3| h3| a4| b4| c4| d4| e4| f4| g4| h4| a5| b5| c5| d5| e5| f5| g5| h5| a6| b6| c6| d6| e6| f6| g6| h6| a7| b7| c7| d7| e7| f7| g7| h7| a8| b8| c8| d8| e8| f8| g8| h8|\n",
      "+----+-------+---------+------+---+---+---+---+---+---+---+---+---+---+---+---+---+---+---+---+---+---+---+---+---+---+---+---+---+---+---+---+---+---+---+---+---+---+---+---+---+---+---+---+---+---+---+---+---+---+---+---+---+---+---+---+---+---+---+---+---+---+---+---+---+---+---+---+\n",
      "|  83|  15380|     h7g8|     1|  0|  0|  0|  0|  0|  0|  0|  5| -5|  0|  0|  0|  0|  1|  0| 10|  0|  0|  0|  0|  0|  0|  1|  1|  0|  0|  0|  0|  0|  0|  0|  0| -1|  0|  0|  0|  0|  0|  0|  0|  0|  0|  0|  0|  0|  0| -1| -1|  0| -1|  0|  0|  9|  0|  0|-10|  0|  0|  0|  0|  0|  0|  0| -5|\n",
      "|  84|  15380|     e7e6|     1|  0|  0|  0|  0|  0|  0|  0|  5| -5|  0|  0|  0|  0|  1|  0| 10|  0|  0|  0|  0|  0|  0|  1|  1|  0|  0|  0|  0|  0|  0|  0|  0| -1|  0|  0|  0|  0|  0|  0|  0|  0|  0|  0|  0|  0|  0| -1| -1|  0| -1|  0|  0|  9|  0|  0|  0|  0|  0|  0|  0|  0|  0|-10| -5|\n",
      "+----+-------+---------+------+---+---+---+---+---+---+---+---+---+---+---+---+---+---+---+---+---+---+---+---+---+---+---+---+---+---+---+---+---+---+---+---+---+---+---+---+---+---+---+---+---+---+---+---+---+---+---+---+---+---+---+---+---+---+---+---+---+---+---+---+---+---+---+---+\n",
      "only showing top 2 rows\n",
      "\n"
     ]
    }
   ],
   "source": [
    "df.show(2)"
   ]
  },
  {
   "cell_type": "code",
   "execution_count": 4,
   "id": "e30f43b5-a69e-4915-87b5-de3d023c39d7",
   "metadata": {
    "tags": []
   },
   "outputs": [
    {
     "data": {
      "text/plain": [
       "10018"
      ]
     },
     "execution_count": 4,
     "metadata": {},
     "output_type": "execute_result"
    }
   ],
   "source": [
    "df.count()"
   ]
  },
  {
   "cell_type": "markdown",
   "id": "9b0059d0-5601-4645-ac01-428a4bec08d1",
   "metadata": {},
   "source": [
    "\n",
    "\n",
    "# **Chess Piece Values**\n",
    "\n",
    "| **Chess Piece**     | **Value** |\n",
    "|----------------------|-----------|\n",
    "| White Rook 1         | `5`       |\n",
    "| White Rook 2         | `5`       |\n",
    "| White Knight 1       | `3`       |\n",
    "| White Knight 2       | `3`       |\n",
    "| White Bishop 1       | `3`       |\n",
    "| White Bishop 2       | `3`       |\n",
    "| White Queen          | `9`       |\n",
    "| White King           | `10`      |\n",
    "| White Pawn 1–8       | `1`       |\n",
    "\n",
    "**Note:** Black pieces have the same values as white pieces but are negative. \n",
    "\n",
    "**Note:** If the result is labeled 1, that means white won. If black won, result is labeled 0.\n"
   ]
  },
  {
   "cell_type": "code",
   "execution_count": 5,
   "id": "e43a1dc9-732c-42d9-9634-693ba70ac6e3",
   "metadata": {
    "tags": []
   },
   "outputs": [],
   "source": [
    "# Split data into training and testing sets\n",
    "train, test = df.randomSplit([0.9, 0.1], seed=42)\n",
    "\n",
    "# Prepare features and label\n",
    "board_spots = [col for col in df.columns if col not in ['Move', 'game_id', 'next_move', 'result']]\n",
    "vector_assembler = VectorAssembler(inputCols=board_spots, outputCol=\"features\")\n",
    "\n",
    "# Transform data\n",
    "train = vector_assembler.transform(train)\n",
    "test = vector_assembler.transform(test)\n",
    "\n",
    "# # Ensure the 'result' column is numeric and rename it to 'label'\n",
    "# train = train.withColumnRenamed(\"result\", \"label\")\n",
    "# test = test.withColumnRenamed(\"result\", \"label\")"
   ]
  },
  {
   "cell_type": "markdown",
   "id": "dd5c9134-c32b-4106-a868-5b3fa7b73e06",
   "metadata": {},
   "source": [
    "## Benchmark Model: Logistic Regression"
   ]
  },
  {
   "cell_type": "code",
   "execution_count": 6,
   "id": "d4777da1-ce99-40c0-9a98-9ec0a4ba1da3",
   "metadata": {
    "tags": []
   },
   "outputs": [
    {
     "name": "stderr",
     "output_type": "stream",
     "text": [
      "                                                                                \r"
     ]
    },
    {
     "name": "stdout",
     "output_type": "stream",
     "text": [
      "+--------------------+------+----------+--------------------+\n",
      "|            features|result|prediction|         probability|\n",
      "+--------------------+------+----------+--------------------+\n",
      "|(64,[0,4,5,6,7,9,...|     0|       1.0|[0.40431716519803...|\n",
      "|(64,[0,3,5,6,7,8,...|     1|       1.0|[0.42697934966022...|\n",
      "|(64,[0,2,6,7,8,9,...|     0|       0.0|[0.82664399980251...|\n",
      "|(64,[0,2,5,7,8,9,...|     1|       1.0|[0.47374769140373...|\n",
      "|(64,[0,3,6,7,8,9,...|     0|       1.0|[0.38246962742278...|\n",
      "+--------------------+------+----------+--------------------+\n",
      "only showing top 5 rows\n",
      "\n"
     ]
    }
   ],
   "source": [
    "logistic_regression = LogisticRegression(featuresCol=\"features\", labelCol=\"result\", maxIter=1000)\n",
    "lr_model = logistic_regression.fit(train)\n",
    "predictions = lr_model.transform(test)\n",
    "predictions.select(\"features\", \"result\", \"prediction\", \"probability\").show(5)"
   ]
  },
  {
   "cell_type": "code",
   "execution_count": 7,
   "id": "47dcfacd-592a-4620-832f-71b1a209a2e4",
   "metadata": {
    "tags": []
   },
   "outputs": [
    {
     "name": "stdout",
     "output_type": "stream",
     "text": [
      "Accuracy: 0.7084113980627702\n"
     ]
    }
   ],
   "source": [
    "# Evaluate the model\n",
    "evaluator = BinaryClassificationEvaluator(labelCol=\"result\", rawPredictionCol=\"prediction\", metricName=\"areaUnderROC\")\n",
    "accuracy = evaluator.evaluate(predictions)\n",
    "print(f\"Accuracy: {accuracy}\")"
   ]
  },
  {
   "cell_type": "markdown",
   "id": "1d52facb-a0a6-4184-8c63-4b955e04e84e",
   "metadata": {},
   "source": [
    "## Intermediate Model: Random Forest"
   ]
  },
  {
   "cell_type": "code",
   "execution_count": 8,
   "id": "ecf0ea9b-96f8-4e57-a2a8-7dcdd36640af",
   "metadata": {
    "tags": []
   },
   "outputs": [
    {
     "name": "stderr",
     "output_type": "stream",
     "text": [
      "                                                                                \r"
     ]
    },
    {
     "name": "stdout",
     "output_type": "stream",
     "text": [
      "+--------------------+------+----------+--------------------+\n",
      "|            features|result|prediction|         probability|\n",
      "+--------------------+------+----------+--------------------+\n",
      "|(64,[0,4,5,6,7,9,...|     0|       1.0|[0.45203580374873...|\n",
      "|(64,[0,3,5,6,7,8,...|     1|       1.0|[0.34934689371371...|\n",
      "|(64,[0,2,6,7,8,9,...|     0|       1.0|[0.47374637222721...|\n",
      "|(64,[0,2,5,7,8,9,...|     1|       1.0|[0.44429477749447...|\n",
      "|(64,[0,3,6,7,8,9,...|     0|       1.0|[0.37105811187865...|\n",
      "+--------------------+------+----------+--------------------+\n",
      "only showing top 5 rows\n",
      "\n"
     ]
    }
   ],
   "source": [
    "# Set up the Random Forest model\n",
    "rf = RandomForestClassifier(labelCol=\"result\", featuresCol=\"features\", numTrees=100, maxDepth=10, seed=42)\n",
    "\n",
    "# Train the model\n",
    "model = rf.fit(train)\n",
    "\n",
    "# Make predictions\n",
    "predictions = model.transform(test)\n",
    "predictions.select(\"features\", \"result\", \"prediction\", \"probability\").show(5)"
   ]
  },
  {
   "cell_type": "code",
   "execution_count": 9,
   "id": "038a3796-c885-4628-9cb0-1c6dba5385b5",
   "metadata": {
    "tags": []
   },
   "outputs": [
    {
     "name": "stdout",
     "output_type": "stream",
     "text": [
      "Accuracy: 0.7643486034066835\n"
     ]
    }
   ],
   "source": [
    "# Evaluate the model\n",
    "evaluator = BinaryClassificationEvaluator(labelCol=\"result\", rawPredictionCol=\"prediction\", metricName=\"areaUnderROC\")\n",
    "accuracy = evaluator.evaluate(predictions)\n",
    "print(f\"Accuracy: {accuracy}\")"
   ]
  },
  {
   "cell_type": "markdown",
   "id": "68ae6c35-277b-4252-bbdb-d37a8c35ff49",
   "metadata": {},
   "source": [
    "## Intermediate Model: Multi Layer Perceptron"
   ]
  },
  {
   "cell_type": "code",
   "execution_count": 10,
   "id": "64ed6332-3771-40cc-b54f-43408a32ad34",
   "metadata": {
    "tags": []
   },
   "outputs": [
    {
     "name": "stdout",
     "output_type": "stream",
     "text": [
      "+--------------------+------+----------+--------------------+\n",
      "|            features|result|prediction|         probability|\n",
      "+--------------------+------+----------+--------------------+\n",
      "|(64,[0,4,5,6,7,9,...|     0|       1.0|[0.00193470020062...|\n",
      "|(64,[0,3,5,6,7,8,...|     1|       0.0|[0.99999987808343...|\n",
      "|(64,[0,2,6,7,8,9,...|     0|       0.0|[0.99998542852464...|\n",
      "|(64,[0,2,5,7,8,9,...|     1|       1.0|[9.63420204171194...|\n",
      "|(64,[0,3,6,7,8,9,...|     0|       0.0|[0.99755168569054...|\n",
      "+--------------------+------+----------+--------------------+\n",
      "only showing top 5 rows\n",
      "\n"
     ]
    }
   ],
   "source": [
    "# Define the layers for the neural network\n",
    "# Layers: [input layer size, hidden layer size(s), output layer size]\n",
    "layers = [len(board_spots), 64, 32, 2]  # two hidden layers (64 and 32 nodes) and binary output\n",
    "\n",
    "# Set up the Multilayer Perceptron Classifier\n",
    "mlp = MultilayerPerceptronClassifier(labelCol=\"result\", featuresCol=\"features\", layers=layers, maxIter=100, blockSize=128, seed=42)\n",
    "\n",
    "# Train the model\n",
    "model = mlp.fit(train)\n",
    "\n",
    "# Make predictions\n",
    "predictions = model.transform(test)\n",
    "predictions.select(\"features\", \"result\", \"prediction\", \"probability\").show(5)"
   ]
  },
  {
   "cell_type": "code",
   "execution_count": 11,
   "id": "2079e9d2-f37f-47b8-8f5b-e3df18cc9339",
   "metadata": {
    "tags": []
   },
   "outputs": [
    {
     "name": "stdout",
     "output_type": "stream",
     "text": [
      "Accuracy: 0.8188347231916535\n"
     ]
    }
   ],
   "source": [
    "# Evaluate the model\n",
    "evaluator = BinaryClassificationEvaluator(labelCol=\"result\", rawPredictionCol=\"prediction\", metricName=\"areaUnderROC\")\n",
    "accuracy = evaluator.evaluate(predictions)\n",
    "print(f\"Accuracy: {accuracy}\")"
   ]
  },
  {
   "cell_type": "markdown",
   "id": "a4f16ca8-bb19-4ac1-a630-564ec8d23dad",
   "metadata": {},
   "source": [
    "## Champion Model: Gradient Boosting"
   ]
  },
  {
   "cell_type": "code",
   "execution_count": 12,
   "id": "acc840cd-ccb3-4748-8673-edfb517d762b",
   "metadata": {
    "tags": []
   },
   "outputs": [
    {
     "name": "stdout",
     "output_type": "stream",
     "text": [
      "+--------------------+------+----------+--------------------+\n",
      "|            features|result|prediction|         probability|\n",
      "+--------------------+------+----------+--------------------+\n",
      "|(64,[0,4,5,6,7,9,...|     0|       0.0|[0.62109765050878...|\n",
      "|(64,[0,3,5,6,7,8,...|     1|       1.0|[0.17347849337837...|\n",
      "|(64,[0,2,6,7,8,9,...|     0|       1.0|[0.28916173699203...|\n",
      "|(64,[0,2,5,7,8,9,...|     1|       1.0|[0.45405109181348...|\n",
      "|(64,[0,3,6,7,8,9,...|     0|       1.0|[0.25885933362354...|\n",
      "+--------------------+------+----------+--------------------+\n",
      "only showing top 5 rows\n",
      "\n"
     ]
    }
   ],
   "source": [
    "GBT = GBTClassifier(featuresCol=\"features\", labelCol=\"result\", maxIter=200)\n",
    "GBT_model = GBT.fit(train)\n",
    "\n",
    "# Predictions on Validation Set\n",
    "predictions_GBT = GBT_model.transform(test)\n",
    "predictions_GBT.select(\"features\", \"result\", \"prediction\", \"probability\").show(5)"
   ]
  },
  {
   "cell_type": "code",
   "execution_count": 13,
   "id": "cbc24224-0c40-4af9-81a0-39ce11cb9ba1",
   "metadata": {
    "tags": []
   },
   "outputs": [
    {
     "name": "stdout",
     "output_type": "stream",
     "text": [
      "Accuracy: 0.8857805860671296\n"
     ]
    }
   ],
   "source": [
    "# Evaluate the model\n",
    "evaluator = BinaryClassificationEvaluator(labelCol=\"result\", rawPredictionCol=\"prediction\", metricName=\"areaUnderROC\")\n",
    "accuracy = evaluator.evaluate(predictions_GBT)\n",
    "print(f\"Accuracy: {accuracy}\")"
   ]
  },
  {
   "cell_type": "code",
   "execution_count": 14,
   "id": "8bbb3f54-ef81-4d37-9eaa-d2bda21f34ce",
   "metadata": {
    "tags": []
   },
   "outputs": [],
   "source": [
    "## EXTRA ANALYSIS HERE"
   ]
  },
  {
   "cell_type": "code",
   "execution_count": null,
   "id": "ad462a7e-3f8d-40e7-987b-c3879f898f6d",
   "metadata": {},
   "outputs": [],
   "source": []
  }
 ],
 "metadata": {
  "kernelspec": {
   "display_name": "DS7200 Spark 3.3",
   "language": "python",
   "name": "ds5110_spark3.3"
  },
  "language_info": {
   "codemirror_mode": {
    "name": "ipython",
    "version": 3
   },
   "file_extension": ".py",
   "mimetype": "text/x-python",
   "name": "python",
   "nbconvert_exporter": "python",
   "pygments_lexer": "ipython3",
   "version": "3.7.12"
  }
 },
 "nbformat": 4,
 "nbformat_minor": 5
}
